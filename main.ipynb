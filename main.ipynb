{
 "cells": [
  {
   "attachments": {},
   "cell_type": "markdown",
   "metadata": {},
   "source": [
    "### Loading Libraries and Data"
   ]
  },
  {
   "cell_type": "code",
   "execution_count": 3,
   "metadata": {},
   "outputs": [],
   "source": [
    "import pandas as pd\n",
    "from scipy.stats import shapiro\n",
    "import scipy.stats as st"
   ]
  },
  {
   "cell_type": "code",
   "execution_count": 4,
   "metadata": {},
   "outputs": [
    {
     "data": {
      "text/html": [
       "<div>\n",
       "<style scoped>\n",
       "    .dataframe tbody tr th:only-of-type {\n",
       "        vertical-align: middle;\n",
       "    }\n",
       "\n",
       "    .dataframe tbody tr th {\n",
       "        vertical-align: top;\n",
       "    }\n",
       "\n",
       "    .dataframe thead th {\n",
       "        text-align: right;\n",
       "    }\n",
       "</style>\n",
       "<table border=\"1\" class=\"dataframe\">\n",
       "  <thead>\n",
       "    <tr style=\"text-align: right;\">\n",
       "      <th></th>\n",
       "      <th>Notas</th>\n",
       "      <th>Turno</th>\n",
       "    </tr>\n",
       "  </thead>\n",
       "  <tbody>\n",
       "    <tr>\n",
       "      <th>0</th>\n",
       "      <td>56</td>\n",
       "      <td>N</td>\n",
       "    </tr>\n",
       "    <tr>\n",
       "      <th>1</th>\n",
       "      <td>68</td>\n",
       "      <td>M</td>\n",
       "    </tr>\n",
       "    <tr>\n",
       "      <th>2</th>\n",
       "      <td>69</td>\n",
       "      <td>M</td>\n",
       "    </tr>\n",
       "    <tr>\n",
       "      <th>3</th>\n",
       "      <td>70</td>\n",
       "      <td>M</td>\n",
       "    </tr>\n",
       "    <tr>\n",
       "      <th>4</th>\n",
       "      <td>70</td>\n",
       "      <td>T</td>\n",
       "    </tr>\n",
       "  </tbody>\n",
       "</table>\n",
       "</div>"
      ],
      "text/plain": [
       "   Notas Turno\n",
       "0     56     N\n",
       "1     68     M\n",
       "2     69     M\n",
       "3     70     M\n",
       "4     70     T"
      ]
     },
     "execution_count": 4,
     "metadata": {},
     "output_type": "execute_result"
    }
   ],
   "source": [
    "data = {\n",
    "    'Notas': [56, 68, 69, 70, 70, 72, 75, 77, 83, 84, 84, 85, 90, 92, 95, 95, 95, 100, 100, 100, 100],\n",
    "    'Turno': ['N', 'M', 'M', 'M', 'T', 'N', 'M', 'M', 'T', 'N', 'N', 'T', 'T', 'M', 'M', 'N', 'T', 'T', 'M', 'M', 'T']\n",
    "}\n",
    "\n",
    "data = pd.DataFrame(data)\n",
    "data.head()"
   ]
  },
  {
   "attachments": {},
   "cell_type": "markdown",
   "metadata": {},
   "source": [
    "### Organizing Data"
   ]
  },
  {
   "cell_type": "code",
   "execution_count": 5,
   "metadata": {},
   "outputs": [],
   "source": [
    "manha = data.query('Turno == \"M\"').Notas\n",
    "tarde = data.query('Turno == \"T\"').Notas\n",
    "noite = data.query('Turno == \"N\"').Notas"
   ]
  },
  {
   "attachments": {},
   "cell_type": "markdown",
   "metadata": {},
   "source": [
    "### Data Analysis"
   ]
  },
  {
   "cell_type": "code",
   "execution_count": 6,
   "metadata": {},
   "outputs": [
    {
     "name": "stdout",
     "output_type": "stream",
     "text": [
      "Manhã: P-value: 0.06 , nível de significância (alfa): 0.05\n",
      "Tarde: P-value: 0.48 , nível de significância (alfa): 0.05\n",
      "Noite: P-value: 0.69 , nível de significância (alfa): 0.05\n"
     ]
    }
   ],
   "source": [
    "# Testando a normalidade dos dados\n",
    "\n",
    "nivel_significancia = 0.05\n",
    "\n",
    "stat_test, p_value = st.shapiro(manha)\n",
    "print(\"Manhã: P-value:\", round(p_value, 2), ', nível de significância (alfa):', round(nivel_significancia,2))\n",
    "\n",
    "stat_test, p_value = st.shapiro(tarde)\n",
    "print(\"Tarde: P-value:\", round(p_value, 2), ', nível de significância (alfa):', round(nivel_significancia,2))\n",
    "\n",
    "stat_test, p_value = st.shapiro(noite)\n",
    "print(\"Noite: P-value:\", round(p_value, 2), ', nível de significância (alfa):', round(nivel_significancia,2))"
   ]
  },
  {
   "cell_type": "code",
   "execution_count": 7,
   "metadata": {},
   "outputs": [
    {
     "name": "stdout",
     "output_type": "stream",
     "text": [
      "Padrão: P-value: 0.3722 , nível de significância (alfa): 0.05\n"
     ]
    }
   ],
   "source": [
    "# Testando a homogeinedade das variâncias\n",
    "\n",
    "stat_test, p_value = st.levene(manha, tarde, noite, center = 'mean')\n",
    "print(\"Padrão: P-value:\", round(p_value, 4), ', nível de significância (alfa):', round(nivel_significancia,2))"
   ]
  },
  {
   "attachments": {},
   "cell_type": "markdown",
   "metadata": {},
   "source": [
    "##### Como os dados atendem a todos os pressupostos para utilização do teste ANOVA de uma via, podemos agora partir para a comparação das médias dos grupos."
   ]
  },
  {
   "attachments": {},
   "cell_type": "markdown",
   "metadata": {},
   "source": [
    "*   HO: Média do turno da M = T = N\n",
    "*   H1: Existe diferença em pelo menos um turno"
   ]
  },
  {
   "cell_type": "code",
   "execution_count": 8,
   "metadata": {},
   "outputs": [
    {
     "name": "stdout",
     "output_type": "stream",
     "text": [
      "P-value: 0.3744 , nível de significância (alfa): 0.05\n"
     ]
    }
   ],
   "source": [
    "# Teste ANOVA de uma via para comparar a média dos três grupos\n",
    "\n",
    "stat_test, p_value = st.f_oneway(manha, tarde, noite)\n",
    "print(\"P-value:\", round(p_value, 4), ', nível de significância (alfa):', round(nivel_significancia,2))"
   ]
  },
  {
   "attachments": {},
   "cell_type": "markdown",
   "metadata": {},
   "source": [
    "##### Como P-value > 0.05, não rejeitamos a hipótese nula e portanto concluímos que não existe diferença significativa na nota média dos alunos dos três turnos.\n",
    "##### Ou seja, o turno em que os alunos cursam não influenciam seu desempenho na prova."
   ]
  }
 ],
 "metadata": {
  "kernelspec": {
   "display_name": "anova",
   "language": "python",
   "name": "python3"
  },
  "language_info": {
   "codemirror_mode": {
    "name": "ipython",
    "version": 3
   },
   "file_extension": ".py",
   "mimetype": "text/x-python",
   "name": "python",
   "nbconvert_exporter": "python",
   "pygments_lexer": "ipython3",
   "version": "3.8.5"
  },
  "orig_nbformat": 4,
  "vscode": {
   "interpreter": {
    "hash": "89bed533d157b4186239f670c116e1e90fbbacf4bd66ee3f5729f905dd38438d"
   }
  }
 },
 "nbformat": 4,
 "nbformat_minor": 2
}
